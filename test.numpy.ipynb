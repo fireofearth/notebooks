{
 "cells": [
  {
   "cell_type": "code",
   "execution_count": 1,
   "metadata": {},
   "outputs": [],
   "source": [
    "import numpy as np\n",
    "import pandas as pd\n",
    "import scipy\n",
    "import matplotlib.pyplot as plt\n",
    "import enum\n",
    "import attrdict\n",
    "import pprint\n",
    "import itertools"
   ]
  },
  {
   "cell_type": "code",
   "execution_count": 4,
   "metadata": {},
   "outputs": [
    {
     "data": {
      "text/plain": [
       "array([1., 2., 1.])"
      ]
     },
     "execution_count": 4,
     "metadata": {},
     "output_type": "execute_result"
    }
   ],
   "source": [
    "# basic use of norm the calculate the length of each of the 3 vectors\n",
    "others = np.array([[1,0,0],[0,2,0],[1,0,0]])\n",
    "np.linalg.norm(others, axis=1)"
   ]
  },
  {
   "cell_type": "code",
   "execution_count": 9,
   "metadata": {},
   "outputs": [
    {
     "data": {
      "text/plain": [
       "array([1.41421356, 1.        , 1.41421356, 2.        ])"
      ]
     },
     "execution_count": 9,
     "metadata": {},
     "output_type": "execute_result"
    }
   ],
   "source": [
    "# getting the L^2 (Euclidean) distance of points from player\n",
    "others = np.array([[1,0,0],[0,2,0],[1,0,0],[0,-1,0]])\n",
    "player = np.array([0,1,0])\n",
    "np.linalg.norm(others - player, axis=1)"
   ]
  },
  {
   "cell_type": "code",
   "execution_count": 14,
   "metadata": {},
   "outputs": [
    {
     "data": {
      "text/plain": [
       "array([ True,  True,  True, False])"
      ]
     },
     "execution_count": 14,
     "metadata": {},
     "output_type": "execute_result"
    }
   ],
   "source": [
    "# getting the L^2 (Euclidean) distance of points from player\n",
    "# can use distance vector to filter arrays\n",
    "ids = np.array([1,2,3,4])\n",
    "others = np.array([[1,0,0],[0,2,0],[1,0,0],[0,-1,0]])\n",
    "player = np.array([0,1,0])\n",
    "dist = np.linalg.norm(others - player, axis=1)\n",
    "ids[dist < 2.].tolist()"
   ]
  },
  {
   "cell_type": "code",
   "execution_count": 25,
   "metadata": {},
   "outputs": [
    {
     "name": "stdout",
     "output_type": "stream",
     "text": [
      "[None, None, None, None, None]\n"
     ]
    },
    {
     "data": {
      "text/plain": [
       "[0, 1, 2, 3, 4]"
      ]
     },
     "execution_count": 25,
     "metadata": {},
     "output_type": "execute_result"
    }
   ],
   "source": [
    "# How to preallocate a vector?\n",
    "# This is faster than list.append()\n",
    "v = [None] * 5\n",
    "print(v)\n",
    "for i in range(5):\n",
    "    v[i] = i"
   ]
  },
  {
   "cell_type": "code",
   "execution_count": 28,
   "metadata": {},
   "outputs": [
    {
     "data": {
      "text/plain": [
       "array([[[ 1, -1,  0],\n",
       "        [ 0,  1,  0]],\n",
       "\n",
       "       [[ 1, -1,  0],\n",
       "        [ 0, -2,  0]]])"
      ]
     },
     "execution_count": 28,
     "metadata": {},
     "output_type": "execute_result"
    }
   ],
   "source": [
    "# How does a vector subtract a matrix?\n",
    "others = np.array([[[1,0,0],[0,2,0]],[[1,0,0],[0,-1,0]]])\n",
    "player = np.array([0,1,0])\n",
    "others - player"
   ]
  },
  {
   "cell_type": "code",
   "execution_count": 36,
   "metadata": {},
   "outputs": [
    {
     "data": {
      "text/plain": [
       "array([[[501, 502, 503],\n",
       "        [501, 502, 503],\n",
       "        [501, 502, 503],\n",
       "        [501, 502, 503],\n",
       "        [501, 502, 503],\n",
       "        [501, 502, 503]],\n",
       "\n",
       "       [[501, 502, 503],\n",
       "        [501, 502, 503],\n",
       "        [501, 502, 503],\n",
       "        [501, 502, 503],\n",
       "        [501, 502, 503],\n",
       "        [501, 502, 503]],\n",
       "\n",
       "       [[501, 502, 503],\n",
       "        [501, 502, 503],\n",
       "        [501, 502, 503],\n",
       "        [501, 502, 503],\n",
       "        [501, 502, 503],\n",
       "        [501, 502, 503]]])"
      ]
     },
     "execution_count": 36,
     "metadata": {},
     "output_type": "execute_result"
    }
   ],
   "source": [
    "n_missing = 3\n",
    "faraway = np.array([1,2,3]) + 500\n",
    "faraway_tile = np.tile(faraway[None, None], (n_missing, 6, 1))\n",
    "# faraway_tile = np.tile(faraway, (n_missing, 6, 1))\n",
    "faraway_tile"
   ]
  },
  {
   "cell_type": "code",
   "execution_count": 20,
   "metadata": {},
   "outputs": [
    {
     "name": "stdout",
     "output_type": "stream",
     "text": [
      "   ids      dist\n",
      "0    1  1.732051\n",
      "1    2  1.414214\n",
      "2    3  1.000000\n",
      "3    4  2.449490\n",
      "4    5  2.000000\n",
      "   ids      dist\n",
      "0    1  1.732051\n",
      "1    2  1.414214\n",
      "2    3  1.000000\n",
      "   ids      dist\n",
      "2    3  1.000000\n",
      "1    2  1.414214\n",
      "0    1  1.732051\n"
     ]
    },
    {
     "data": {
      "text/plain": [
       "array([3, 2, 1])"
      ]
     },
     "execution_count": 20,
     "metadata": {},
     "output_type": "execute_result"
    }
   ],
   "source": [
    "# getting the L^2 (Euclidean) distance of points from player\n",
    "# can use distance vector to filter arrays\n",
    "ids = np.array([1,2,3,4,5])\n",
    "others = np.array([[1,0,1],[1,0,0],[0,2,0],[2,2,1],[0,-1,0]])\n",
    "player = np.array([0,1,0])\n",
    "dist = np.linalg.norm(others - player, axis=1)\n",
    "# ids[dist < 2.].tolist()\n",
    "dd = pd.DataFrame({\n",
    "        'ids': ids,\n",
    "        'dist': dist})\n",
    "print(dd)\n",
    "dd = dd[dd['dist'] < 2.0]\n",
    "print(dd)\n",
    "dd.sort_values('dist', inplace=True)\n",
    "print(dd)\n",
    "dd['ids'].to_numpy()"
   ]
  },
  {
   "cell_type": "code",
   "execution_count": 9,
   "metadata": {},
   "outputs": [
    {
     "name": "stdout",
     "output_type": "stream",
     "text": [
      "CONTROLLED\n"
     ]
    }
   ],
   "source": [
    "# don't use enum.Enum, just use object. It works better\n",
    "class ScenarioLabel(object):\n",
    "    NONE = 'NONE'\n",
    "    UNCONTROLLED = 'UNCONTROLLED'\n",
    "    CONTROLLED = 'CONTROLLED'\n",
    "\n",
    "print(ScenarioLabel.CONTROLLED)\n",
    "# don't need .name to get string\n",
    "# print(ScenarioLabel.CONTROLLED.name)"
   ]
  },
  {
   "cell_type": "code",
   "execution_count": 10,
   "metadata": {},
   "outputs": [
    {
     "name": "stdout",
     "output_type": "stream",
     "text": [
      "[1 0 0]\n",
      "[0 2 0]\n",
      "[1 0 0]\n",
      "[ 0 -1  0]\n"
     ]
    }
   ],
   "source": [
    "# iterate through the rows in an array\n",
    "# but not the columns\n",
    "locations = np.array([[1,0,0],[0,2,0],[1,0,0],[0,-1,0]])\n",
    "for loc in locations:\n",
    "    print(loc)"
   ]
  },
  {
   "cell_type": "code",
   "execution_count": 8,
   "metadata": {},
   "outputs": [
    {
     "name": "stdout",
     "output_type": "stream",
     "text": [
      "{'meters_max': 50, 'pixels_per_meter': 2, 'hist_max_per_pixel': 25, 'val_obstacle': 1.0}\n",
      "{'meters_max': 50, 'pixels_per_meter': 2, 'hist_max_per_pixel': 25, 'val_obstacle': 1.0}\n"
     ]
    }
   ],
   "source": [
    "# to convert a object to a dict, use vars() or __dict__\n",
    "class LidarParams(object):\n",
    "    def __init__(self,\n",
    "            meters_max=50,\n",
    "            pixels_per_meter=2,\n",
    "            hist_max_per_pixel=25,\n",
    "            val_obstacle=1.):\n",
    "        self.meters_max = meters_max\n",
    "        self.pixels_per_meter = pixels_per_meter\n",
    "        self.hist_max_per_pixel = hist_max_per_pixel\n",
    "        self.val_obstacle = val_obstacle\n",
    "\n",
    "params = LidarParams()\n",
    "print(vars(params))\n",
    "print(params.__dict__)"
   ]
  },
  {
   "cell_type": "code",
   "execution_count": 30,
   "metadata": {},
   "outputs": [
    {
     "data": {
      "image/png": "[encoded data removed]",
      "text/plain": [
       "<Figure size 432x288 with 1 Axes>"
      ]
     },
     "metadata": {
      "needs_background": "light"
     },
     "output_type": "display_data"
    }
   ],
   "source": [
    "# rotate vector by creating a transformation matrix.\n",
    "# transformation matrix is generated from a rotation vector.\n",
    "R = scipy.spatial.transform.Rotation\n",
    "\n",
    "a = np.pi / 4\n",
    "b = np.pi / 3\n",
    "u = np.array([np.cos(b) / 3, np.sin(b)/ 3, 0])\n",
    "v = np.array([np.cos(a), np.sin(a), 0])\n",
    "# create a rotate vector cw by 30 matrix\n",
    "r = R.from_rotvec(np.array([0, 0, -1]) * np.pi / 6).as_matrix()\n",
    "# matrix multiplication\n",
    "w = r @ v\n",
    "z = r @ u\n",
    "fig, ax = plt.subplots()\n",
    "ax.scatter(0, 0, color=\"black\")\n",
    "ax.scatter(u[0],u[1], color=\"blue\")\n",
    "ax.scatter(v[0],v[1], color=\"blue\")\n",
    "ax.scatter(z[0],z[1], color=\"red\")\n",
    "ax.scatter(w[0],w[1], color=\"red\")\n",
    "\n",
    "# change graph appearance\n",
    "ax.spines['left'].set_position('center')\n",
    "ax.spines['bottom'].set_position('center')\n",
    "ax.set_xlim(-1.0,1.0)\n",
    "ax.set_ylim(-1.0,1.0)\n",
    "ax.set_aspect('equal')"
   ]
  },
  {
   "cell_type": "code",
   "execution_count": 44,
   "metadata": {},
   "outputs": [
    {
     "name": "stdout",
     "output_type": "stream",
     "text": [
      "[[ 0.70710678  0.70710678  0.        ]\n",
      " [-0.16666667  0.28867513  0.        ]\n",
      " [ 0.21650635 -0.125       0.        ]]\n"
     ]
    },
    {
     "data": {
      "image/png": "[encoded data removed]",
      "text/plain": [
       "<Figure size 432x288 with 1 Axes>"
      ]
     },
     "metadata": {
      "needs_background": "light"
     },
     "output_type": "display_data"
    }
   ],
   "source": [
    "# rotate multiple vectors at once by creating a transformation matrix.\n",
    "# transformation matrix is generated from a rotation vector.\n",
    "R = scipy.spatial.transform.Rotation\n",
    "\n",
    "a = np.pi / 4\n",
    "b = 2 * np.pi / 3\n",
    "c = - np.pi / 6\n",
    "# vectors that we want to rotate in the shape of\n",
    "# (number of vectors, vector dimensions)\n",
    "v = np.array([\n",
    "    [np.cos(a), np.sin(a), 0],\n",
    "    [np.cos(b) / 3, np.sin(b)/ 3, 0],\n",
    "    [np.cos(c) / 4, np.sin(c)/ 4, 0]\n",
    "])\n",
    "print(v)\n",
    "# create a rotate vector cw by 30 matrix\n",
    "r = R.from_rotvec(np.array([0, 0, -1]) * np.pi / 12).as_matrix()\n",
    "# matrix multiplication: transpose to make vectors in v column vectors.\n",
    "#     next apply np.matmul (Matrix product of two arrays).\n",
    "#     finally transpose back vectors in v to row vectors\n",
    "w = (r @ v.T).T\n",
    "fig, ax = plt.subplots()\n",
    "ax.scatter(0, 0, color=\"black\")\n",
    "ax.scatter(v[:,0],v[:,1], color=\"blue\")\n",
    "ax.scatter(w[:,0],w[:,1], color=\"red\")\n",
    "\n",
    "# change graph appearance\n",
    "ax.spines['left'].set_position('center')\n",
    "ax.spines['bottom'].set_position('center')\n",
    "ax.set_xlim(-1.0,1.0)\n",
    "ax.set_ylim(-1.0,1.0)\n",
    "ax.set_aspect('equal')"
   ]
  },
  {
   "cell_type": "code",
   "execution_count": 76,
   "metadata": {},
   "outputs": [
    {
     "name": "stdout",
     "output_type": "stream",
     "text": [
      "[[ 0.70710678  0.70710678  0.        ]\n",
      " [-0.16666667  0.28867513  0.        ]\n",
      " [ 0.21650635 -0.125       0.        ]]\n"
     ]
    },
    {
     "data": {
      "image/png": "[encoded data removed]",
      "text/plain": [
       "<Figure size 432x288 with 1 Axes>"
      ]
     },
     "metadata": {
      "needs_background": "light"
     },
     "output_type": "display_data"
    }
   ],
   "source": [
    "# rotate multiple vectors at once by creating a transformation matrix.\n",
    "# transformation matrix is generated from a rotation vector.\n",
    "R = scipy.spatial.transform.Rotation\n",
    "\n",
    "a = np.pi / 4\n",
    "b = 2 * np.pi / 3\n",
    "c = - np.pi / 6\n",
    "# vectors that we want to rotate in the shape of\n",
    "# (number of vectors, vector dimensions)\n",
    "v = np.array([\n",
    "    [np.cos(a), np.sin(a), 0],\n",
    "    [np.cos(b) / 3, np.sin(b)/ 3, 0],\n",
    "    [np.cos(c) / 4, np.sin(c)/ 4, 0]\n",
    "])\n",
    "print(v)\n",
    "# create a rotate vector cw by matrix\n",
    "angle = (np.random.sample()*2 - 1)*np.pi\n",
    "r = R.from_rotvec(np.array([0, 0, -1]) * angle).as_matrix()\n",
    "# matrix multiplication: transpose to make vectors in v column vectors.\n",
    "#     next apply np.matmul (Matrix product of two arrays).\n",
    "#     finally transpose back vectors in v to row vectors\n",
    "w = (r @ v.T).T\n",
    "fig, ax = plt.subplots()\n",
    "ax.scatter(0, 0, color=\"black\")\n",
    "ax.scatter(v[:,0],v[:,1], color=\"blue\")\n",
    "ax.scatter(w[:,0],w[:,1], color=\"red\")\n",
    "\n",
    "# change graph appearance\n",
    "ax.spines['left'].set_position('center')\n",
    "ax.spines['bottom'].set_position('center')\n",
    "ax.set_xlim(-1.0,1.0)\n",
    "ax.set_ylim(-1.0,1.0)\n",
    "ax.set_aspect('equal')"
   ]
  },
  {
   "cell_type": "code",
   "execution_count": 19,
   "metadata": {},
   "outputs": [
    {
     "name": "stdout",
     "output_type": "stream",
     "text": [
      "['512' '512' '512' '256' '256' '256']\n",
      "[ True  True  True False False False]\n",
      "['Stroma/MMRd/VOA-1000A/512/20/0_0' 'Stroma/MMRd/VOA-1000A/512/10/0_0'\n",
      " 'Stroma/MMRd/VOA-1000A/512/20/2_2']\n",
      "['Stroma/MMRd/VOA-1000A/512/10/0_0' 'Stroma/MMRd/VOA-1000A/256/10/0_0'\n",
      " 'Tumor/POLE/VOA-1000B/256/10/0_0']\n"
     ]
    }
   ],
   "source": [
    "## example of using \n",
    "\n",
    "ids = [\n",
    "        \"Stroma/MMRd/VOA-1000A/512/20/0_0\",\n",
    "        \"Stroma/MMRd/VOA-1000A/512/10/0_0\",\n",
    "        \"Stroma/MMRd/VOA-1000A/512/20/2_2\",\n",
    "        \"Stroma/MMRd/VOA-1000A/256/20/0_0\",\n",
    "        \"Stroma/MMRd/VOA-1000A/256/10/0_0\",\n",
    "        \"Tumor/POLE/VOA-1000B/256/10/0_0\"]\n",
    "\n",
    "id_nd = np.char.asarray([[*id.split('/'), id] for id in ids])\n",
    "patch_sizes = np.unique(id_nd[:, 3])\n",
    "magnifications = np.unique(id_nd[:, 4])\n",
    "\n",
    "print(id_nd[:, 3])\n",
    "print(id_nd[:, 3] == '512')\n",
    "print(id_nd[id_nd[:, 3] == '512', -1])\n",
    "print(id_nd[id_nd[:, 4] == '10', -1])"
   ]
  },
  {
   "cell_type": "code",
   "execution_count": 121,
   "metadata": {},
   "outputs": [
    {
     "data": {
      "text/plain": [
       "array([[0, 1],\n",
       "       [2, 3],\n",
       "       [4, 5],\n",
       "       [6, 7]])"
      ]
     },
     "execution_count": 121,
     "metadata": {},
     "output_type": "execute_result"
    }
   ],
   "source": [
    "# example of reshaping an array\n",
    "A = np.array([\n",
    "    [\n",
    "        [0, 1],\n",
    "        [2, 3],\n",
    "    ], [\n",
    "        [4, 5],\n",
    "        [6, 7],\n",
    "    ],\n",
    "])\n",
    "A = A.reshape((-1,2))\n",
    "# A"
   ]
  },
  {
   "cell_type": "code",
   "execution_count": 30,
   "metadata": {},
   "outputs": [
    {
     "name": "stdout",
     "output_type": "stream",
     "text": [
      "{   '256': {   '10': [   'Stroma/MMRd/VOA-1000A/256/10/0_0',\n",
      "                         'Tumor/POLE/VOA-1000B/256/10/0_0'],\n",
      "               '20': ['Stroma/MMRd/VOA-1000A/256/20/0_0']},\n",
      "    '512': {   '10': ['Stroma/MMRd/VOA-1000A/512/10/0_0'],\n",
      "               '20': [   'Stroma/MMRd/VOA-1000A/512/20/0_0',\n",
      "                         'Stroma/MMRd/VOA-1000A/512/20/2_2']}}\n",
      "<class 'str'>\n"
     ]
    }
   ],
   "source": [
    "pp = pprint.PrettyPrinter(indent=4)\n",
    "\n",
    "ids = [\n",
    "        \"Stroma/MMRd/VOA-1000A/512/20/0_0\",\n",
    "        \"Stroma/MMRd/VOA-1000A/512/10/0_0\",\n",
    "        \"Stroma/MMRd/VOA-1000A/512/20/2_2\",\n",
    "        \"Stroma/MMRd/VOA-1000A/256/20/0_0\",\n",
    "        \"Stroma/MMRd/VOA-1000A/256/10/0_0\",\n",
    "        \"Tumor/POLE/VOA-1000B/256/10/0_0\"]\n",
    "words = ['patch_size', 'magnification']\n",
    "sample_pattern = {'patch_size': 3, 'magnification': 4}\n",
    "\n",
    "id_nd = np.char.asarray([[*id.split('/'), id] for id in ids])\n",
    "word_to_labels = { }\n",
    "for word in words:\n",
    "    word_to_labels[word] = np.unique(id_nd[:, sample_pattern[word]])\n",
    "id_groups = { }\n",
    "def traverse_words(part_id_nd, idx=0):\n",
    "    if idx >= len(words):\n",
    "        return part_id_nd[:, -1].tolist()\n",
    "    else:\n",
    "        word = words[idx]\n",
    "        out = { }\n",
    "        for label in word_to_labels[word]:\n",
    "            selector = part_id_nd[:, sample_pattern[word]] == label\n",
    "            out[label] = traverse_words(\n",
    "                    part_id_nd[selector, :],\n",
    "                    idx=idx + 1)\n",
    "        return out\n",
    "\n",
    "group_ids = traverse_words(id_nd)\n",
    "pp.pprint(group_ids)\n",
    "print( type(group_ids['256']['10'][0]) )"
   ]
  },
  {
   "cell_type": "code",
   "execution_count": 9,
   "metadata": {},
   "outputs": [
    {
     "name": "stdout",
     "output_type": "stream",
     "text": [
      "{'a': 1, 'b': 2, 'c': 3}\n",
      "{'a': 1, 'b': 2, 'c': 3}\n"
     ]
    }
   ],
   "source": [
    "# how to initialize objects with many parameters.\n",
    "class TestMe(object):\n",
    "    def __init__(self, a, b, c=None, **kargs):\n",
    "        self.a = a\n",
    "        self.b = b\n",
    "        self.c = c\n",
    "\n",
    "tm = TestMe(**{'a': 1, 'b': 2, 'c': 3, 'd': 4})\n",
    "print(vars(tm))\n",
    "tm = TestMe(1, **{'b': 2, 'c': 3, 'd': 4})\n",
    "print(vars(tm))"
   ]
  },
  {
   "cell_type": "code",
   "execution_count": 48,
   "metadata": {},
   "outputs": [
    {
     "name": "stdout",
     "output_type": "stream",
     "text": [
      "(2, 3, 4, 5) (0,) (1,)\n",
      "(0, 3, 4, 5) (1,) (2,)\n",
      "(0, 1, 4, 5) (2,) (3,)\n",
      "(0, 1, 2, 5) (3,) (4,)\n",
      "(0, 1, 2, 3) (4,) (5,)\n"
     ]
    }
   ],
   "source": [
    "## generate splits indices.\n",
    "\n",
    "def gen_splits(n):\n",
    "    \"\"\"Generates group indices for (train, val, test set.\"\"\"\n",
    "    v = list(range(n))\n",
    "    for idx in range(0, len(v) - 1):\n",
    "        yield tuple(v[:idx] + v[idx + 2:]), (idx,), (idx + 1,)\n",
    "\n",
    "for train, val, test in gen_splits(6):\n",
    "    print(train, val, test)\n"
   ]
  },
  {
   "cell_type": "code",
   "execution_count": 52,
   "metadata": {},
   "outputs": [
    {
     "ename": "TypeError",
     "evalue": "list indices must be integers or slices, not list",
     "output_type": "error",
     "traceback": [
      "\u001b[0;31m---------------------------------------------------------------------------\u001b[0m",
      "\u001b[0;31mTypeError\u001b[0m                                 Traceback (most recent call last)",
      "\u001b[0;32m<ipython-input-52-9ebc0575d96e>\u001b[0m in \u001b[0;36m<module>\u001b[0;34m\u001b[0m\n\u001b[1;32m      3\u001b[0m     \u001b[0;32mreturn\u001b[0m \u001b[0mlist\u001b[0m\u001b[0;34m(\u001b[0m\u001b[0mitertools\u001b[0m\u001b[0;34m.\u001b[0m\u001b[0mchain\u001b[0m\u001b[0;34m.\u001b[0m\u001b[0mfrom_iterable\u001b[0m\u001b[0;34m(\u001b[0m\u001b[0mll\u001b[0m\u001b[0;34m)\u001b[0m\u001b[0;34m)\u001b[0m\u001b[0;34m\u001b[0m\u001b[0;34m\u001b[0m\u001b[0m\n\u001b[1;32m      4\u001b[0m \u001b[0mv\u001b[0m \u001b[0;34m=\u001b[0m \u001b[0mlist\u001b[0m\u001b[0;34m(\u001b[0m\u001b[0mrange\u001b[0m\u001b[0;34m(\u001b[0m\u001b[0;36m4\u001b[0m\u001b[0;34m)\u001b[0m\u001b[0;34m)\u001b[0m\u001b[0;34m\u001b[0m\u001b[0;34m\u001b[0m\u001b[0m\n\u001b[0;32m----> 5\u001b[0;31m v[[1,2\n\u001b[0m\u001b[1;32m      6\u001b[0m ]]\n",
      "\u001b[0;31mTypeError\u001b[0m: list indices must be integers or slices, not list"
     ]
    }
   ],
   "source": []
  },
  {
   "cell_type": "code",
   "execution_count": null,
   "metadata": {},
   "outputs": [],
   "source": []
  }
 ],
 "metadata": {
  "kernelspec": {
   "display_name": "Python 3",
   "language": "python",
   "name": "python3"
  },
  "language_info": {
   "codemirror_mode": {
    "name": "ipython",
    "version": 3
   },
   "file_extension": ".py",
   "mimetype": "text/x-python",
   "name": "python",
   "nbconvert_exporter": "python",
   "pygments_lexer": "ipython3",
   "version": "3.8.3"
  }
 },
 "nbformat": 4,
 "nbformat_minor": 4
}
